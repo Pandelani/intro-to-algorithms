{
 "cells": [
  {
   "cell_type": "markdown",
   "metadata": {},
   "source": [
    "# Chapter 7 - Quicksort"
   ]
  },
  {
   "cell_type": "code",
   "execution_count": 27,
   "metadata": {
    "collapsed": false
   },
   "outputs": [],
   "source": [
    "def partition(iterable, left_index, right_index):\n",
    "    right_value = iterable[right_index]\n",
    "    min_index = left_index - 1\n",
    "    for traveling_index in range(left_index, right_index):\n",
    "        if iterable[traveling_index] <= iterable[right_index]:\n",
    "            min_index += 1\n",
    "            min_value = iterable[min_index]\n",
    "            iterable[min_index] = iterable[traveling_index]\n",
    "            iterable[traveling_index] = min_value\n",
    "    pivot_index = min_index + 1\n",
    "    pivot_value = iterable[right_index]\n",
    "    iterable[right_index] = iterable[pivot_index]\n",
    "    iterable[pivot_index] = pivot_value\n",
    "    return pivot_index\n",
    "\n",
    "def recursive_quicksort(iterable, left_index, right_index):\n",
    "    if left_index < right_index:\n",
    "        print(iterable)\n",
    "        q = partition(iterable, left_index, right_index)\n",
    "        recursive_quicksort(iterable, left_index, q-1)\n",
    "        recursive_quicksort(iterable, q+1, right_index)\n",
    "\n",
    "def quicksort(iterable):\n",
    "    left_index = 0\n",
    "    right_index = len(iterable)-1\n",
    "    q = partition(iterable, left_index, right_index)\n",
    "    recursive_quicksort(iterable, left_index, q-1)\n",
    "    recursive_quicksort(iterable, q+1, right_index)\n",
    "    return iterable"
   ]
  },
  {
   "cell_type": "code",
   "execution_count": 28,
   "metadata": {
    "collapsed": false
   },
   "outputs": [
    {
     "name": "stdout",
     "output_type": "stream",
     "text": [
      "[0, 1, 2, 3, 4, 5, 7, 8, 6, 9]\n",
      "[0, 1, 2, 3, 4, 5, 7, 8, 6, 9]\n",
      "[0, 1, 2, 3, 4, 5, 7, 8, 6, 9]\n",
      "[0, 1, 2, 3, 4, 5, 7, 8, 6, 9]\n",
      "[0, 1, 2, 3, 4, 5, 7, 8, 6, 9]\n",
      "[0, 1, 2, 3, 4, 5, 7, 8, 6, 9]\n",
      "[0, 1, 2, 3, 4, 5, 6, 8, 7, 9]\n"
     ]
    },
    {
     "data": {
      "text/plain": [
       "[0, 1, 2, 3, 4, 5, 6, 7, 8, 9]"
      ]
     },
     "execution_count": 28,
     "metadata": {},
     "output_type": "execute_result"
    }
   ],
   "source": [
    "array = [0,1,9,2,8,3,7,4,6,5]\n",
    "quicksort(array)"
   ]
  },
  {
   "cell_type": "code",
   "execution_count": 31,
   "metadata": {
    "collapsed": true
   },
   "outputs": [],
   "source": [
    "from numpy.random import randint\n",
    "\n",
    "def random_partition(iterable, left_index, right_index):\n",
    "    random_integer = randint(left_index, right_index)\n",
    "    random_value = iterable[random_integer]\n",
    "    iterable[random_integer] = iterable[right_index]\n",
    "    iterable[right_index] = random_integer\n",
    "    return partition(iterable, left_index, right_index)    \n",
    "\n",
    "def random_quicksort(iterable):\n",
    "    left_index = 0\n",
    "    right_index = len(iterable)-1\n",
    "    q = random_partition(iterable, left_index, right_index)\n",
    "    recursive_quicksort(iterable, left_index, q-1)\n",
    "    recursive_quicksort(iterable, q+1, right_index)\n",
    "    return iterable"
   ]
  },
  {
   "cell_type": "code",
   "execution_count": 33,
   "metadata": {
    "collapsed": false
   },
   "outputs": [
    {
     "name": "stdout",
     "output_type": "stream",
     "text": [
      "[1, 8, 7, 6, 5, 4, 3, 2, 9]\n",
      "[1, 8, 7, 6, 5, 4, 3, 2, 9]\n",
      "[1, 2, 7, 6, 5, 4, 3, 8, 9]\n",
      "[1, 2, 7, 6, 5, 4, 3, 8, 9]\n",
      "[1, 2, 3, 6, 5, 4, 7, 8, 9]\n",
      "[1, 2, 3, 6, 5, 4, 7, 8, 9]\n",
      "[1, 2, 3, 4, 5, 6, 7, 8, 9]\n"
     ]
    },
    {
     "data": {
      "text/plain": [
       "[1, 2, 3, 4, 5, 6, 7, 8, 9]"
      ]
     },
     "execution_count": 33,
     "metadata": {},
     "output_type": "execute_result"
    }
   ],
   "source": [
    "array = [9,8,7,6,5,4,3,2,1]\n",
    "quicksort(array)"
   ]
  },
  {
   "cell_type": "code",
   "execution_count": null,
   "metadata": {
    "collapsed": true
   },
   "outputs": [],
   "source": []
  }
 ],
 "metadata": {
  "kernelspec": {
   "display_name": "Python 3",
   "language": "python",
   "name": "python3"
  },
  "language_info": {
   "codemirror_mode": {
    "name": "ipython",
    "version": 3
   },
   "file_extension": ".py",
   "mimetype": "text/x-python",
   "name": "python",
   "nbconvert_exporter": "python",
   "pygments_lexer": "ipython3",
   "version": "3.5.1"
  }
 },
 "nbformat": 4,
 "nbformat_minor": 0
}
