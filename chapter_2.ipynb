{
 "cells": [
  {
   "cell_type": "markdown",
   "metadata": {},
   "source": [
    "# Chapter Two - Getting Started\n",
    "\n",
    "## Insertion Sort\n",
    "\n",
    "The insertion sort is a strategy for sorting an array by iterating over each item in the array and shifting it in one direction until it satisfies a greater-than or less-than condition. To put it another way, we will have two loops: one that iterates over all the values in an array that we want to sort, and a loop inside that loop that compares one value to all the values to the left, then decides where to put it.\n",
    "\n",
    "In pseudocode, this looks something like:\n",
    "\n",
    "```\n",
    "initialize an outer index for iterating over values in the array\n",
    "while outer index is less than the length of the whole array\n",
    "  initialize value at outer index\n",
    "  initialize a searching index that starts to the left of outer index\n",
    "  while the value at the searching index is less than the value at the outer index\n",
    "    shift the value at the searching index one place to the right\n",
    "    shift the outer index one place to the left\n",
    "  insert the value at the outer index one place to the right of the search index\n",
    "  shift the outer index one place to the right\n",
    "```\n",
    "\n",
    "In Python, it can be written:"
   ]
  },
  {
   "cell_type": "code",
   "execution_count": 1,
   "metadata": {
    "collapsed": true
   },
   "outputs": [],
   "source": [
    "def insertion_sort(array):\n",
    "    item_ix = 1\n",
    "    while item_ix < len(array):\n",
    "        item_value = array[item_ix]\n",
    "        search_ix = item_ix - 1\n",
    "        while (search_ix >= 0) and (item_value < array[search_ix]):\n",
    "            array[search_ix + 1] = array[search_ix]\n",
    "            search_ix -= 1\n",
    "        array[search_ix + 1] = item_value\n",
    "        item_ix += 1\n",
    "    return array"
   ]
  },
  {
   "cell_type": "markdown",
   "metadata": {},
   "source": [
    "We can test this to make sure it's working with a random sequence of integers"
   ]
  },
  {
   "cell_type": "code",
   "execution_count": 2,
   "metadata": {
    "collapsed": false
   },
   "outputs": [
    {
     "data": {
      "text/plain": [
       "array([ 7, 26, 31, 33, 37, 47, 57, 80, 89, 99])"
      ]
     },
     "execution_count": 2,
     "metadata": {},
     "output_type": "execute_result"
    }
   ],
   "source": [
    "from numpy import random\n",
    "insertion_sort(random.randint(0,100,10))"
   ]
  },
  {
   "cell_type": "markdown",
   "metadata": {},
   "source": [
    "## Merge sort\n",
    "\n",
    "The insertion sort works pretty well with small arrays, but the amount of time it takes to sort an array increases exponentially. To sort more quickly, we can use a recursive algorithm that sorts arrays by splitting them up into smaller and smaller pieces, ordering them, and recombining them. The crucial step here is the recombining step, as this is where the merge sort gets its computational efficiency.\n",
    "\n",
    "In pseudocode, we might write this like:\n",
    "\n",
    "```\n",
    "divide array into a left array and right array\n",
    "while each array is longer than longer than one\n",
    "  call this function recursively to sort them\n",
    "initialize separate indices for the array, and its left and right pieces\n",
    "for each position in the array\n",
    "  put the smaller of the left or right arrays item at their respective indices\n",
    "  increment the index for the array that gave the value\n",
    "```\n",
    "\n",
    "To make this work in Python, we need to do two things. First, we need to import a function that copies mutable objects. By default, when Python initializes a mutable object, it creates a place in memory and all assignment statements that reference that object are just pointing to the location in memory. This means that if you assign two names to the same mutable object, changing one will change the other as well:"
   ]
  },
  {
   "cell_type": "code",
   "execution_count": 3,
   "metadata": {
    "collapsed": false
   },
   "outputs": [
    {
     "data": {
      "text/plain": [
       "[2, 3]"
      ]
     },
     "execution_count": 3,
     "metadata": {},
     "output_type": "execute_result"
    }
   ],
   "source": [
    "a = [1, 2, 3]\n",
    "b = a\n",
    "del a[0]\n",
    "b"
   ]
  },
  {
   "cell_type": "markdown",
   "metadata": {},
   "source": [
    "To make a different copy of an object in memory, so that we can operate on one while not changing the other, we will import a function called `deepcopy`."
   ]
  },
  {
   "cell_type": "code",
   "execution_count": 4,
   "metadata": {
    "collapsed": false
   },
   "outputs": [
    {
     "data": {
      "text/plain": [
       "[1, 2, 3]"
      ]
     },
     "execution_count": 4,
     "metadata": {},
     "output_type": "execute_result"
    }
   ],
   "source": [
    "from copy import deepcopy\n",
    "\n",
    "a = [1, 2, 3]\n",
    "b = deepcopy(a)\n",
    "del a[0]\n",
    "b"
   ]
  },
  {
   "cell_type": "markdown",
   "metadata": {},
   "source": [
    "The other thing we'll need to do is define a function that returns something other than an exception when we try to access an item in an array past the last index of the array. The reason for this is that after one sub-array has run out of items to put back into the main array, it still has to give something to serve in the comparison between the left and right sub-arrays. \n",
    "\n",
    "Here, we are going to have it return `infinity` to facilitate a `less than` comparison."
   ]
  },
  {
   "cell_type": "code",
   "execution_count": 5,
   "metadata": {
    "collapsed": true
   },
   "outputs": [],
   "source": [
    "def get_value(array, ix):\n",
    "    try:\n",
    "        value = array[ix]\n",
    "    except IndexError:\n",
    "        value = float('inf')\n",
    "    return value"
   ]
  },
  {
   "cell_type": "markdown",
   "metadata": {},
   "source": [
    "Now, we can transcribe our pseudocode into Python:"
   ]
  },
  {
   "cell_type": "code",
   "execution_count": 6,
   "metadata": {
    "collapsed": false
   },
   "outputs": [],
   "source": [
    "def merge_sort(array):\n",
    "    left_array = deepcopy(array[:(len(array)//2)])\n",
    "    right_array = deepcopy(array[(len(array)//2):])\n",
    "    if len(left_array) > 1:\n",
    "        left_array = merge_sort(left_array)\n",
    "    if len(right_array) > 1:\n",
    "        right_array = merge_sort(right_array)\n",
    "    left_ix = 0\n",
    "    right_ix = 0\n",
    "    array_ix = 0\n",
    "    while array_ix < len(array):\n",
    "        left_value = get_value(left_array, left_ix)\n",
    "        right_value = get_value(right_array, right_ix)\n",
    "        if left_value < right_value:\n",
    "            array[array_ix] = left_value\n",
    "            left_ix += 1\n",
    "        else:\n",
    "            array[array_ix] = right_value\n",
    "            right_ix += 1\n",
    "        array_ix += 1\n",
    "    return array"
   ]
  },
  {
   "cell_type": "markdown",
   "metadata": {},
   "source": [
    "And as a sanity check, we have it sort a short list for us:"
   ]
  },
  {
   "cell_type": "code",
   "execution_count": 7,
   "metadata": {
    "collapsed": false
   },
   "outputs": [
    {
     "data": {
      "text/plain": [
       "array([ 9, 12, 30, 33, 33, 34, 40, 54, 96, 98])"
      ]
     },
     "execution_count": 7,
     "metadata": {},
     "output_type": "execute_result"
    }
   ],
   "source": [
    "merge_sort(random.randint(0,100,10))"
   ]
  },
  {
   "cell_type": "markdown",
   "metadata": {},
   "source": [
    "At small sizes, insert sort is faster than merge"
   ]
  },
  {
   "cell_type": "code",
   "execution_count": 8,
   "metadata": {
    "collapsed": false
   },
   "outputs": [
    {
     "name": "stdout",
     "output_type": "stream",
     "text": [
      "1000 loops, best of 3: 1.03 ms per loop\n"
     ]
    }
   ],
   "source": [
    "%timeit insertion_sort(random.randint(0,100,100))"
   ]
  },
  {
   "cell_type": "code",
   "execution_count": 9,
   "metadata": {
    "collapsed": false
   },
   "outputs": [
    {
     "name": "stdout",
     "output_type": "stream",
     "text": [
      "1000 loops, best of 3: 1.79 ms per loop\n"
     ]
    }
   ],
   "source": [
    "%timeit merge_sort(random.randint(0,100,100))"
   ]
  },
  {
   "cell_type": "markdown",
   "metadata": {},
   "source": [
    "But at large sizes, merge_sort greatly outperforms insertion:"
   ]
  },
  {
   "cell_type": "code",
   "execution_count": 10,
   "metadata": {
    "collapsed": false
   },
   "outputs": [
    {
     "name": "stdout",
     "output_type": "stream",
     "text": [
      "1 loops, best of 3: 10.4 s per loop\n"
     ]
    }
   ],
   "source": [
    "%timeit insertion_sort(random.randint(0,100,10000))"
   ]
  },
  {
   "cell_type": "code",
   "execution_count": 11,
   "metadata": {
    "collapsed": false
   },
   "outputs": [
    {
     "name": "stdout",
     "output_type": "stream",
     "text": [
      "1 loops, best of 3: 213 ms per loop\n"
     ]
    }
   ],
   "source": [
    "%timeit merge_sort(random.randint(0,100,10000))"
   ]
  },
  {
   "cell_type": "markdown",
   "metadata": {},
   "source": [
    "## Combining sort strategies\n",
    "\n",
    "If we want to make an even faster, algorithm, we can combine these two strategies where the sort type used is dependent on the size of the array. But what size should we pick? We know that insertion sort is going to scale exponentially compared to merge sort, so we can make a guess that they'll converge around an n of 200."
   ]
  },
  {
   "cell_type": "code",
   "execution_count": 12,
   "metadata": {
    "collapsed": false
   },
   "outputs": [
    {
     "name": "stdout",
     "output_type": "stream",
     "text": [
      "100 loops, best of 3: 4.08 ms per loop\n"
     ]
    }
   ],
   "source": [
    "%timeit insertion_sort(random.randint(0,100,200))"
   ]
  },
  {
   "cell_type": "code",
   "execution_count": 13,
   "metadata": {
    "collapsed": false
   },
   "outputs": [
    {
     "name": "stdout",
     "output_type": "stream",
     "text": [
      "100 loops, best of 3: 3.33 ms per loop\n"
     ]
    }
   ],
   "source": [
    "%timeit merge_sort(random.randint(0,100,200))"
   ]
  },
  {
   "cell_type": "markdown",
   "metadata": {},
   "source": [
    "That's pretty close, so let's try it in our combined algorithm:"
   ]
  },
  {
   "cell_type": "code",
   "execution_count": 14,
   "metadata": {
    "collapsed": true
   },
   "outputs": [],
   "source": [
    "def combined_sort(array):\n",
    "    left_array = deepcopy(array[:(len(array)//2)])\n",
    "    right_array = deepcopy(array[(len(array)//2):])\n",
    "    if len(left_array) > 200:\n",
    "        left_array = merge_sort(left_array)\n",
    "    else:\n",
    "        left_array = insertion_sort(left_array)\n",
    "    if len(right_array) > 200:\n",
    "        right_array = merge_sort(right_array)\n",
    "    else:\n",
    "        right_array = insertion_sort(right_array)\n",
    "    left_ix = 0\n",
    "    right_ix = 0\n",
    "    array_ix = 0\n",
    "    while array_ix < len(array):\n",
    "        left_value = get_value(left_array, left_ix)\n",
    "        right_value = get_value(right_array, right_ix)\n",
    "        if left_value < right_value:\n",
    "            array[array_ix] = left_value\n",
    "            left_ix += 1\n",
    "        else:\n",
    "            array[array_ix] = right_value\n",
    "            right_ix += 1\n",
    "        array_ix += 1\n",
    "    return array"
   ]
  },
  {
   "cell_type": "markdown",
   "metadata": {},
   "source": [
    "Again, as a sanity check, we can call this on a small array:"
   ]
  },
  {
   "cell_type": "code",
   "execution_count": 15,
   "metadata": {
    "collapsed": false
   },
   "outputs": [
    {
     "data": {
      "text/plain": [
       "array([ 9, 32, 34, 43, 61, 62, 77, 93, 99, 99])"
      ]
     },
     "execution_count": 15,
     "metadata": {},
     "output_type": "execute_result"
    }
   ],
   "source": [
    "combined_sort(random.randint(0,100,10))"
   ]
  },
  {
   "cell_type": "markdown",
   "metadata": {},
   "source": [
    "And we can benchmark it against the other two sort methods:"
   ]
  },
  {
   "cell_type": "code",
   "execution_count": 16,
   "metadata": {
    "collapsed": false
   },
   "outputs": [
    {
     "name": "stdout",
     "output_type": "stream",
     "text": [
      "1 loops, best of 3: 209 ms per loop\n"
     ]
    }
   ],
   "source": [
    "%timeit combined_sort(random.randint(0,100,10000))"
   ]
  },
  {
   "cell_type": "markdown",
   "metadata": {},
   "source": [
    "Interestingly, the way we have it coded here, this doesn't speed up the processing by that much. It's probable that, in Python, the additional communication cost of calling insertion sort and passing data to it are outweighing the efficiency gains of using insertion sort at small array sizes."
   ]
  }
 ],
 "metadata": {
  "kernelspec": {
   "display_name": "Python 3",
   "language": "python",
   "name": "python3"
  },
  "language_info": {
   "codemirror_mode": {
    "name": "ipython",
    "version": 3
   },
   "file_extension": ".py",
   "mimetype": "text/x-python",
   "name": "python",
   "nbconvert_exporter": "python",
   "pygments_lexer": "ipython3",
   "version": "3.5.1"
  }
 },
 "nbformat": 4,
 "nbformat_minor": 0
}
