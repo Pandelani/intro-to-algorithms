{
 "cells": [
  {
   "cell_type": "markdown",
   "metadata": {},
   "source": [
    "# Chapter 10 -- Elementary Data Structures"
   ]
  },
  {
   "cell_type": "code",
   "execution_count": 24,
   "metadata": {
    "collapsed": true
   },
   "outputs": [],
   "source": [
    "class Stack(object):\n",
    "    \n",
    "    def __init__(self):\n",
    "        self.data = [None]\n",
    "        self.head = 0\n",
    "        \n",
    "    def __getitem__(self, index):\n",
    "        return self.data[index]\n",
    "    \n",
    "    def __setitem__(self, index, value):\n",
    "        self.data[index] = value\n",
    "        \n",
    "    def pop(self):\n",
    "        if self.head == 0:\n",
    "            raise BaseException(\"Stack underflow\")\n",
    "        self.head -= 1\n",
    "        return self[self.head + 1]\n",
    "    \n",
    "    def push(self, value):\n",
    "        if self.head == len(self.data) - 1:\n",
    "            self.data += [None] * (1 + self.head//2)\n",
    "        self.head += 1\n",
    "        self[self.head] = value"
   ]
  },
  {
   "cell_type": "code",
   "execution_count": 25,
   "metadata": {
    "collapsed": false
   },
   "outputs": [
    {
     "data": {
      "text/plain": [
       "9"
      ]
     },
     "execution_count": 25,
     "metadata": {},
     "output_type": "execute_result"
    }
   ],
   "source": [
    "stack = Stack()\n",
    "for i in range(10):\n",
    "    stack.push(i)\n",
    "stack.pop()"
   ]
  },
  {
   "cell_type": "code",
   "execution_count": 28,
   "metadata": {
    "collapsed": true
   },
   "outputs": [],
   "source": [
    "class Queue(object):\n",
    "    \n",
    "    def __init__(self):\n",
    "        self.data = [None]\n",
    "        self.head = 0\n",
    "        self.tail = 0\n",
    "        \n",
    "    def __getitem__(self, index):\n",
    "        return self.data[index]\n",
    "    \n",
    "    def __setitem__(self, index, value):\n",
    "        self.data[index] = value\n",
    "    \n",
    "    def dequeue(self):\n",
    "        if self.head == self.tail:\n",
    "            raise BaseException(\"Queue empty\")\n",
    "        self.head += 1\n",
    "        return self[self.head]\n",
    "    \n",
    "    def enqueue(self, value):\n",
    "        if self.tail == len(self.data) - 1:\n",
    "            self.data += [None] * (1 + self.tail//2)\n",
    "        self.tail += 1\n",
    "        self[self.tail] = value"
   ]
  },
  {
   "cell_type": "code",
   "execution_count": 29,
   "metadata": {
    "collapsed": false
   },
   "outputs": [
    {
     "data": {
      "text/plain": [
       "0"
      ]
     },
     "execution_count": 29,
     "metadata": {},
     "output_type": "execute_result"
    }
   ],
   "source": [
    "queue = Queue()\n",
    "for i in range(10):\n",
    "    queue.enqueue(i)\n",
    "queue.dequeue()"
   ]
  },
  {
   "cell_type": "code",
   "execution_count": 22,
   "metadata": {
    "collapsed": true
   },
   "outputs": [],
   "source": [
    "from collections import namedtuple\n",
    "\n",
    "class LinkedList(object):\n",
    "    \n",
    "    def __init__(self):\n",
    "        self.data = [[0, 'sentinel', 0]]\n",
    "        self.empties = []\n",
    "        \n",
    "    def __iter__(self):\n",
    "        index = 0\n",
    "        while index != self.data[0][0]:\n",
    "            index = self.data[index][2]\n",
    "            value = self.data[index][1]\n",
    "            yield index, value\n",
    "\n",
    "    def delete(self, key):\n",
    "        prev_item = self.data[key][0]\n",
    "        next_item = self.data[key][2]\n",
    "        self.data[prev_item][2] = next_item\n",
    "        self.data[next_item][0] = prev_item\n",
    "        self.empties.append(key)\n",
    "        \n",
    "    def insert(self, item):\n",
    "        if self.empties:\n",
    "            key = self.empties.pop()\n",
    "        else:\n",
    "            key = len(self.data)\n",
    "            self.data.append([None, None, None])\n",
    "        self.data[key][0] = self.data[0][0]\n",
    "        self.data[key][1] = item\n",
    "        self.data[key][2] = 0\n",
    "        self.data[self.data[0][0]][2] = key\n",
    "        self.data[0][0] = key\n",
    "        \n",
    "    def search(self, value):\n",
    "        for index, result in self:\n",
    "            if result == value:\n",
    "                return index\n",
    "        return None\n"
   ]
  },
  {
   "cell_type": "code",
   "execution_count": 24,
   "metadata": {
    "collapsed": false
   },
   "outputs": [
    {
     "data": {
      "text/plain": [
       "2"
      ]
     },
     "execution_count": 24,
     "metadata": {},
     "output_type": "execute_result"
    }
   ],
   "source": [
    "ll = LinkedList()\n",
    "for name in ['alice', 'bob', 'cat', 'dillon']:\n",
    "    ll.insert(name)\n",
    "ll.search('bob')"
   ]
  },
  {
   "cell_type": "code",
   "execution_count": 26,
   "metadata": {
    "collapsed": false
   },
   "outputs": [
    {
     "name": "stdout",
     "output_type": "stream",
     "text": [
      "[[4, 'sentinel', 1], [0, 'alice', 3], [1, 'bob', 3], [1, 'cat', 4], [3, 'dillon', 0]]\n"
     ]
    }
   ],
   "source": [
    "ll.delete(2)\n",
    "print(ll.data)"
   ]
  },
  {
   "cell_type": "code",
   "execution_count": 27,
   "metadata": {
    "collapsed": false
   },
   "outputs": [
    {
     "name": "stdout",
     "output_type": "stream",
     "text": [
      "[[2, 'sentinel', 1], [0, 'alice', 3], [4, 'eve', 0], [1, 'cat', 4], [3, 'dillon', 2]]\n"
     ]
    }
   ],
   "source": [
    "ll.insert('eve')\n",
    "print(ll.data)"
   ]
  },
  {
   "cell_type": "code",
   "execution_count": null,
   "metadata": {
    "collapsed": true
   },
   "outputs": [],
   "source": []
  }
 ],
 "metadata": {
  "kernelspec": {
   "display_name": "Python 3",
   "language": "python",
   "name": "python3"
  },
  "language_info": {
   "codemirror_mode": {
    "name": "ipython",
    "version": 3
   },
   "file_extension": ".py",
   "mimetype": "text/x-python",
   "name": "python",
   "nbconvert_exporter": "python",
   "pygments_lexer": "ipython3",
   "version": "3.5.1"
  }
 },
 "nbformat": 4,
 "nbformat_minor": 0
}
