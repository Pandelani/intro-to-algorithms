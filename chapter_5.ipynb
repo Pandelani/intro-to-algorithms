{
 "cells": [
  {
   "cell_type": "markdown",
   "metadata": {},
   "source": [
    "# Chapter 5 - Probabilistic Analysis and Randomized Algorithms\n",
    "\n",
    "## The hiring problem\n",
    "\n",
    "As a twist on the sorting problem, we will now look at a different kind of cost analysis that the authors call the 'hiring problem'. Imagine an open position and a list of candidates. You must interview each candidate, and replace the person you have hired if they are a better candidate. Interviewing a candidate has a small cost, and hiring them has a large cost.\n",
    "\n",
    "To put this more computerish terms, we want to iterate through an array, at each step storing the best candidate and . There is a small cost for comparing a value in the array, and a high cost for storing it. We might write this in pseudocode as:\n",
    "\n",
    "```\n",
    "initialize current candidate\n",
    "for candidate in list\n",
    "  interview candidate\n",
    "  if candidate is better than current candidate\n",
    "    replace current candidate\n",
    "```\n",
    "\n",
    "In the best case, the cost of the whole procedure will be the interviewing cost times the number of candidates, plus the hiring cost times the number of hires. In the best case, one in which you interview the best candidate first, the total cost will be \n",
    "\n",
    "cost<sub>hiring</sub> `+` number<sub>candidates</sub> `x` cost<sub>interview</sub> "
   ]
  },
  {
   "cell_type": "code",
   "execution_count": 2,
   "metadata": {
    "collapsed": true
   },
   "outputs": [],
   "source": [
    "best_case = [10, 1, 2, 3, 4, 5, 6, 7, 8, 9]"
   ]
  },
  {
   "cell_type": "markdown",
   "metadata": {},
   "source": [
    "In the worst case scenario, every candidate is better than the last, and the total cost will be \n",
    "\n",
    "cost<sub>hiring `+` interviewing</sub> `x` number<sub>candidates</sub>."
   ]
  },
  {
   "cell_type": "code",
   "execution_count": 4,
   "metadata": {
    "collapsed": true
   },
   "outputs": [],
   "source": [
    "worst_case = [1, 2, 3, 4, 5, 6, 7, 8, 9, 10]"
   ]
  },
  {
   "cell_type": "markdown",
   "metadata": {},
   "source": [
    "If we decide that interviewing costs `1`, and hiring costs `5`, this might look like:"
   ]
  },
  {
   "cell_type": "code",
   "execution_count": 5,
   "metadata": {
    "collapsed": false
   },
   "outputs": [
    {
     "data": {
      "text/plain": [
       "(60, 15)"
      ]
     },
     "execution_count": 5,
     "metadata": {},
     "output_type": "execute_result"
    }
   ],
   "source": [
    "def hiring_process(array, cost_interview, cost_hire):\n",
    "    current_candidate = -1\n",
    "    cost = 0\n",
    "    for candidate in array:\n",
    "        cost += cost_interview\n",
    "        if candidate > current_candidate:\n",
    "            current_candidate = candidate\n",
    "            cost += cost_hire\n",
    "    return cost\n",
    "\n",
    "hiring_process(worst_case, 1, 5), hiring_process(best_case, 1, 5)"
   ]
  },
  {
   "cell_type": "markdown",
   "metadata": {},
   "source": [
    "## Indicator random variables\n",
    "\n",
    "If we are using a hiring agency to facilitate this process, they might present us with a list of candidates approximating our worst-case scenario in order to maximize their own profits. In that case, we can reduce the amount we'll end up paying by randomizing the order of applicants.\n",
    "\n",
    "To see why this would help, recall that the difference in cost only depends on differences in the number of hiring events. Our expected number of hires in the worst case is equal to the total number of candidates. In randomized order, the expected number of hires drops. The probability that we'll hire the first candidate is always 1. The probability that the next candidate is better than the first (and thus hirable) is 1/2, and the probability that the third candidate is better than the first two (and thus hirable) is 1/3, ...\n",
    "\n",
    "We can generalize this by saying that the expected number of hires in a list of length n is the sum from i=1 to n of 1/i, which is equivalent to the natural log. Or, in python:"
   ]
  },
  {
   "cell_type": "code",
   "execution_count": 7,
   "metadata": {
    "collapsed": true
   },
   "outputs": [],
   "source": [
    "from math import log, e\n",
    "\n",
    "def expected_hires(array):\n",
    "    return log(len(array), e)"
   ]
  },
  {
   "cell_type": "markdown",
   "metadata": {},
   "source": [
    "The difference in the expected number of hires then, and therefore the cost, is:"
   ]
  },
  {
   "cell_type": "code",
   "execution_count": 8,
   "metadata": {
    "collapsed": false
   },
   "outputs": [
    {
     "data": {
      "text/plain": [
       "7.697414907005954"
      ]
     },
     "execution_count": 8,
     "metadata": {},
     "output_type": "execute_result"
    }
   ],
   "source": [
    "len(worst_case) - expected_hires(worst_case)"
   ]
  },
  {
   "cell_type": "markdown",
   "metadata": {},
   "source": [
    "## Randomized algorithms"
   ]
  },
  {
   "cell_type": "code",
   "execution_count": null,
   "metadata": {
    "collapsed": true
   },
   "outputs": [],
   "source": []
  }
 ],
 "metadata": {
  "kernelspec": {
   "display_name": "Python 3",
   "language": "python",
   "name": "python3"
  },
  "language_info": {
   "codemirror_mode": {
    "name": "ipython",
    "version": 3
   },
   "file_extension": ".py",
   "mimetype": "text/x-python",
   "name": "python",
   "nbconvert_exporter": "python",
   "pygments_lexer": "ipython3",
   "version": "3.5.1"
  }
 },
 "nbformat": 4,
 "nbformat_minor": 0
}
