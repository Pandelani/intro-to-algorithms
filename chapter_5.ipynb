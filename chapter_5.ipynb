{
 "cells": [
  {
   "cell_type": "markdown",
   "metadata": {},
   "source": [
    "# Chapter 5 - Probabilistic Analysis and Randomized Algorithms\n",
    "\n",
    "## The hiring problem\n",
    "\n",
    "As a twist on the sorting problem, we will now look at a different kind of cost analysis that the authors call the 'hiring problem'. Imagine an open position and a list of candidates. You must interview each candidate, and replace the person you have hired if they are a better candidate. Interviewing a candidate has a small cost, and hiring them has a large cost.\n",
    "\n",
    "To put this more computerish terms, we want to iterate through an array, at each step storing the best candidate and . There is a small cost for comparing a value in the array, and a high cost for storing it. We might write this in pseudocode as:\n",
    "\n",
    "```\n",
    "initialize current candidate\n",
    "for candidate in list\n",
    "  interview candidate\n",
    "  if candidate is better than current candidate\n",
    "    replace current candidate\n",
    "```\n",
    "\n",
    "In the best case, the cost of the whole procedure will be the interviewing cost times the number of candidates, plus the hiring cost times the number of hires. In the best case, one in which you interview the best candidate first, the total cost will be \n",
    "\n",
    "cost<sub>hiring</sub> `+` number<sub>candidates</sub> `x` cost<sub>interview</sub> "
   ]
  },
  {
   "cell_type": "code",
   "execution_count": 13,
   "metadata": {
    "collapsed": true
   },
   "outputs": [],
   "source": [
    "best_case = [10, 1, 2, 3, 4, 5, 6, 7, 8, 9]"
   ]
  },
  {
   "cell_type": "markdown",
   "metadata": {},
   "source": [
    "In the worst case scenario, every candidate is better than the last, and the total cost will be \n",
    "\n",
    "cost<sub>hiring `+` interviewing</sub> `x` number<sub>candidates</sub>."
   ]
  },
  {
   "cell_type": "code",
   "execution_count": 14,
   "metadata": {
    "collapsed": true
   },
   "outputs": [],
   "source": [
    "worst_case = [1, 2, 3, 4, 5, 6, 7, 8, 9, 10]"
   ]
  },
  {
   "cell_type": "markdown",
   "metadata": {},
   "source": [
    "If we decide that interviewing costs `1`, and hiring costs `5`, this might look like:"
   ]
  },
  {
   "cell_type": "code",
   "execution_count": 15,
   "metadata": {
    "collapsed": false
   },
   "outputs": [
    {
     "data": {
      "text/plain": [
       "(60, 15)"
      ]
     },
     "execution_count": 15,
     "metadata": {},
     "output_type": "execute_result"
    }
   ],
   "source": [
    "def hiring_process(array, cost_interview, cost_hire):\n",
    "    current_candidate = -1\n",
    "    cost = 0\n",
    "    for candidate in array:\n",
    "        cost += cost_interview\n",
    "        if candidate > current_candidate:\n",
    "            current_candidate = candidate\n",
    "            cost += cost_hire\n",
    "    return cost\n",
    "\n",
    "hiring_process(worst_case, 1, 5), hiring_process(best_case, 1, 5)"
   ]
  },
  {
   "cell_type": "markdown",
   "metadata": {},
   "source": [
    "## Indicator random variables\n",
    "\n",
    "If we are using a hiring agency to facilitate this process, they might present us with a list of candidates approximating our worst-case scenario in order to maximize their own profits. In that case, we can reduce the amount we'll end up paying by randomizing the order of applicants.\n",
    "\n",
    "To see why this would help, recall that the difference in cost only depends on differences in the number of hiring events. Our expected number of hires in the worst case is equal to the total number of candidates. In randomized order, the expected number of hires drops. The probability that we'll hire the first candidate is always 1. The probability that the next candidate is better than the first (and thus hirable) is 1/2, and the probability that the third candidate is better than the first two (and thus hirable) is 1/3, ...\n",
    "\n",
    "We can generalize this by saying that the expected number of hires in a list of length n is the sum from i=1 to n of 1/i, which is equivalent to the natural log. Or, in python:"
   ]
  },
  {
   "cell_type": "code",
   "execution_count": 32,
   "metadata": {
    "collapsed": true
   },
   "outputs": [],
   "source": [
    "from math import log, e\n",
    "\n",
    "def expected_hires(array):\n",
    "    return log(len(array), e)"
   ]
  },
  {
   "cell_type": "markdown",
   "metadata": {},
   "source": [
    "The difference in the expected number of hires then, and therefore the cost, is:"
   ]
  },
  {
   "cell_type": "code",
   "execution_count": 8,
   "metadata": {
    "collapsed": false
   },
   "outputs": [
    {
     "data": {
      "text/plain": [
       "7.697414907005954"
      ]
     },
     "execution_count": 8,
     "metadata": {},
     "output_type": "execute_result"
    }
   ],
   "source": [
    "len(worst_case) - expected_hires(worst_case)"
   ]
  },
  {
   "cell_type": "markdown",
   "metadata": {},
   "source": [
    "## Randomized algorithms"
   ]
  },
  {
   "cell_type": "markdown",
   "metadata": {
    "collapsed": true
   },
   "source": [
    "It may help us, then, to randomize the order of our candidates before hiring. Assuming that we already have a random number generator like `numpy.random`, we can randomize the order (or permute) by generating random values, and sorting on those random values.\n",
    "\n",
    "A faster strategy is to randomize the array in place, by swapping each element of the array with a randomly selected element."
   ]
  },
  {
   "cell_type": "code",
   "execution_count": 9,
   "metadata": {
    "collapsed": true
   },
   "outputs": [],
   "source": [
    "from numpy import random\n",
    "\n",
    "def randomize_in_place(array):\n",
    "    n = len(array)\n",
    "    iterating_ix = 0\n",
    "    while iterating_ix < n:\n",
    "        iterating_value = array[iterating_ix]\n",
    "        random_ix = random.randint(iterating_ix, n)\n",
    "        random_value = array[random_ix]\n",
    "        array[iterating_ix] = random_value\n",
    "        array[random_ix] = iterating_value\n",
    "        iterating_ix += 1\n",
    "    return array"
   ]
  },
  {
   "cell_type": "markdown",
   "metadata": {},
   "source": [
    "As a sanity check, we can see how this handles an array of ordered integers:"
   ]
  },
  {
   "cell_type": "code",
   "execution_count": 10,
   "metadata": {
    "collapsed": false
   },
   "outputs": [
    {
     "data": {
      "text/plain": [
       "[4, 1, 3, 5, 2]"
      ]
     },
     "execution_count": 10,
     "metadata": {},
     "output_type": "execute_result"
    }
   ],
   "source": [
    "randomize_in_place([1,2,3,4,5])"
   ]
  },
  {
   "cell_type": "markdown",
   "metadata": {},
   "source": [
    "This can be used to get us the best applicant in ln(n) hires:"
   ]
  },
  {
   "cell_type": "code",
   "execution_count": 27,
   "metadata": {
    "collapsed": false
   },
   "outputs": [
    {
     "data": {
      "text/plain": [
       "3"
      ]
     },
     "execution_count": 27,
     "metadata": {},
     "output_type": "execute_result"
    }
   ],
   "source": [
    "hiring_process(randomize_in_place(worst_case), 0, 1)"
   ]
  },
  {
   "cell_type": "markdown",
   "metadata": {},
   "source": [
    "However, hiring can be very expensive, so it might be better to hire only one candidate, even if they are not the best possible candidate. We can hire once and get the best candidate out of `n` candidates, without interviewing all of them, with probability `1/e`, or about 40%, by employing the following strategy: \n",
    "\n",
    "We select the first `n/e` candidates, and interview them without hiring any of them. Then, we hire the first candidate afterwards with a higher rank than the ones we have just rejected.\n",
    "\n",
    "In Python, this might look like:"
   ]
  },
  {
   "cell_type": "code",
   "execution_count": 43,
   "metadata": {
    "collapsed": true
   },
   "outputs": [],
   "source": [
    "def online_hiring_process(array):\n",
    "    current_candidate = -1\n",
    "    ix = 0\n",
    "    switch_ix = round(len(array)/e)\n",
    "    while ix <= switch_ix:\n",
    "        if array[ix] > current_candidate:\n",
    "            current_candidate = array[ix]\n",
    "        ix += 1\n",
    "    while ix < len(array):\n",
    "        if array[ix] > current_candidate:\n",
    "            percent_interviewed = ix / len(array) * 100\n",
    "            return \"\"\"\n",
    "            You interviewed {} percent of candidates, and hired {}\n",
    "            \"\"\".format(percent_interviewed, array[ix])\n",
    "        else:\n",
    "            ix += 1"
   ]
  },
  {
   "cell_type": "markdown",
   "metadata": {},
   "source": [
    "As a sanity check, we can try this on a few randomized arrays where we know that max value:"
   ]
  },
  {
   "cell_type": "code",
   "execution_count": 49,
   "metadata": {
    "collapsed": false
   },
   "outputs": [
    {
     "name": "stdout",
     "output_type": "stream",
     "text": [
      "\n",
      "            You interviewed 53.0 percent of candidates, and hired 99\n",
      "            \n",
      "None\n",
      "None\n",
      "\n",
      "            You interviewed 41.0 percent of candidates, and hired 94\n",
      "            \n",
      "\n",
      "            You interviewed 90.0 percent of candidates, and hired 99\n",
      "            \n",
      "\n",
      "            You interviewed 72.0 percent of candidates, and hired 99\n",
      "            \n",
      "None\n",
      "None\n",
      "None\n",
      "\n",
      "            You interviewed 63.0 percent of candidates, and hired 99\n",
      "            \n"
     ]
    }
   ],
   "source": [
    "for i in range(0,10):\n",
    "    print(online_hiring_process(randomize_in_place(list(range(0,100)))))"
   ]
  },
  {
   "cell_type": "markdown",
   "metadata": {},
   "source": [
    "The advantages here are that this algorithm is fast, and in particular has reduced your hiring cost to the lowest possible level (while still hiring a candidate).\n",
    "\n",
    "The obvious disadvantage is that occassionally your best candidate is in the first `n/e`, and you hire no one."
   ]
  }
 ],
 "metadata": {
  "kernelspec": {
   "display_name": "Python 3",
   "language": "python",
   "name": "python3"
  },
  "language_info": {
   "codemirror_mode": {
    "name": "ipython",
    "version": 3
   },
   "file_extension": ".py",
   "mimetype": "text/x-python",
   "name": "python",
   "nbconvert_exporter": "python",
   "pygments_lexer": "ipython3",
   "version": "3.5.1"
  }
 },
 "nbformat": 4,
 "nbformat_minor": 0
}
