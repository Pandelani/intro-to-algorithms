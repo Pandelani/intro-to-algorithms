{
 "cells": [
  {
   "cell_type": "markdown",
   "metadata": {},
   "source": [
    "# Chapter 8 -- Sorting in Linear Time"
   ]
  },
  {
   "cell_type": "code",
   "execution_count": 43,
   "metadata": {
    "collapsed": false
   },
   "outputs": [],
   "source": [
    "class Counting(object):\n",
    "    \n",
    "    def __init__(self, max_value):\n",
    "        self.max_value = max_value\n",
    "        self._counts = [0] * (self.max_value + 1)\n",
    "    \n",
    "    def sort(self, iterable):\n",
    "        result = [0] * (len(iterable) + 1)\n",
    "        for value in iterable:\n",
    "            self._counts[value] += 1\n",
    "        for index in range(1, len(self._counts)):\n",
    "            self._counts[index] += self._counts[index - 1]\n",
    "        for index in list(range(len(iterable)))[::-1] :\n",
    "            value = iterable[index]\n",
    "            result[self._counts[value]] = value\n",
    "            self._counts[value] -= 1\n",
    "        return result[1:] # because python is 0 indexed\n",
    "                  "
   ]
  },
  {
   "cell_type": "code",
   "execution_count": 44,
   "metadata": {
    "collapsed": false
   },
   "outputs": [
    {
     "data": {
      "text/plain": [
       "[0, 1, 2, 3, 4, 5]"
      ]
     },
     "execution_count": 44,
     "metadata": {},
     "output_type": "execute_result"
    }
   ],
   "source": [
    "Counting(5).sort([5,4,3,2,1,0])"
   ]
  },
  {
   "cell_type": "code",
   "execution_count": null,
   "metadata": {
    "collapsed": true
   },
   "outputs": [],
   "source": []
  }
 ],
 "metadata": {
  "kernelspec": {
   "display_name": "Python 3",
   "language": "python",
   "name": "python3"
  },
  "language_info": {
   "codemirror_mode": {
    "name": "ipython",
    "version": 3
   },
   "file_extension": ".py",
   "mimetype": "text/x-python",
   "name": "python",
   "nbconvert_exporter": "python",
   "pygments_lexer": "ipython3",
   "version": "3.5.1"
  }
 },
 "nbformat": 4,
 "nbformat_minor": 0
}
