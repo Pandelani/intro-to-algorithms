{
 "cells": [
  {
   "cell_type": "markdown",
   "metadata": {},
   "source": [
    "# Chapter 13 -- Red-Black Trees"
   ]
  },
  {
   "cell_type": "code",
   "execution_count": 59,
   "metadata": {
    "collapsed": false
   },
   "outputs": [],
   "source": [
    "class Node(object):\n",
    "    \n",
    "    def __init__(self, key):\n",
    "        self.key = key\n",
    "        self.parent = None\n",
    "        self.color = \"black\"\n",
    "        self.left = None\n",
    "        self.right = None\n",
    "        \n",
    "class Tree(object):\n",
    "    \n",
    "    def __init__(self):\n",
    "        self.nil = Node(None)\n",
    "        self.root = self.nil\n",
    "        \n",
    "    def minimum(self):\n",
    "        node = self.root\n",
    "        while node.left != self.nil:\n",
    "            node = node.left\n",
    "        return node\n",
    "\n",
    "    def maximum(self):\n",
    "        node = self.root\n",
    "        while node.right != self.nil:\n",
    "            node = node.right\n",
    "        return node\n",
    "\n",
    "    def search(self, key):\n",
    "        node = self.root\n",
    "        while node != self.nil:\n",
    "            if key == node.key:\n",
    "                return node\n",
    "            elif key > node.key:\n",
    "                node = node.right\n",
    "            else:\n",
    "                node = node.left\n",
    "        return None\n",
    "    \n",
    "    def insert(self, key):\n",
    "        node = Node(key)\n",
    "        pointer = self.root\n",
    "        parent = self.nil\n",
    "        while pointer != self.nil:\n",
    "            parent = pointer\n",
    "            if pointer.key > node.key:\n",
    "                pointer = pointer.left\n",
    "            else:\n",
    "                pointer = pointer.right\n",
    "        node.parent = parent\n",
    "        if parent == self.nil:\n",
    "            self.root = node\n",
    "        elif parent.key > node.key:\n",
    "            parent.left = node\n",
    "        else:\n",
    "            parent.right = node\n",
    "        node.color = \"red\"\n",
    "        node.left = self.nil\n",
    "        node.right = self.nil\n",
    "        self.insert_fixup(node)\n",
    "    \n",
    "    def delete(self, node):\n",
    "        pointer = node\n",
    "        original_color = pointer.color\n",
    "        if node.left == self.nil:\n",
    "            child = node.right\n",
    "            self.transplant(node, node.right)\n",
    "        elif node.right == self.nil:\n",
    "            child = node.left\n",
    "            self.transplant(node, node.left)\n",
    "        else:\n",
    "            pointer = successor(node)\n",
    "            original_color = pointer.color\n",
    "            child = pointer.right\n",
    "            if pointer.parent == node:\n",
    "                child.parent = pointer\n",
    "            else:\n",
    "                self.transplant(pointer, pointer.right)\n",
    "                pointer.right = node.right\n",
    "                pointer.right.parent = pointer\n",
    "            self.transplant(node, pointer)\n",
    "            pointer.left = node.left\n",
    "            pointer.left.parent = pointer\n",
    "            pointer.color = node.color\n",
    "        if original_color == \"black\":\n",
    "            self.delete_fixup(child)\n",
    "    \n",
    "    def delete_fixup(self, node):\n",
    "        while (node != self.root) and (node.color == \"black\"):\n",
    "            if node == node.parent.left:\n",
    "                sibling = node.parent.right\n",
    "                if sibling.color == \"red\":\n",
    "                    sibling.color = \"black\"\n",
    "                    node.parent.color = \"red\"\n",
    "                    self.left_rotate(node.parent)\n",
    "                    sibling = node.parent.right\n",
    "                if (sibling.left.color == \"black\") and (sibling.right.color == \"black\"):\n",
    "                    sibling.color = \"red\"\n",
    "                    node = node.parent\n",
    "                else:\n",
    "                    if sibling.right.color == \"black\":\n",
    "                        sibling.left.color = \"black\"\n",
    "                        sibling.color = \"red\"\n",
    "                        self.right_rotate(sibling)\n",
    "                        sibling = node.parent.right\n",
    "                    sibling.color = node.parent.color\n",
    "                    node.parent.color = \"black\"\n",
    "                    sibling.right.color = \"black\"\n",
    "                    self.left_rotate(node.parent)\n",
    "                    node = self.root\n",
    "            else:\n",
    "                sibling = node.parent.left\n",
    "                if sibling.color == \"red\":\n",
    "                    sibling.color = \"black\"\n",
    "                    node.parent.color = \"red\"\n",
    "                    self.left_rotate(node.parent)\n",
    "                    sibling = node.parent.left\n",
    "                if (sibling.right.color == \"black\") and (sibling.left.color == \"black\"):\n",
    "                    sibling.color = \"red\"\n",
    "                    node = node.parent\n",
    "                else:\n",
    "                    if sibling.left.color == \"black\":\n",
    "                        sibling.right.color = \"black\"\n",
    "                        sibling.color = \"red\"\n",
    "                        self.right_rotate(sibling)\n",
    "                        sibling = node.parent.left\n",
    "                    sibling.color = node.parent.color\n",
    "                    node.parent.color = \"black\"\n",
    "                    sibling.left.color = \"black\"\n",
    "                    self.left_rotate(node.parent)\n",
    "                    node = self.root\n",
    "        node.color = \"black\"\n",
    "    \n",
    "    def insert_fixup(self, node):\n",
    "        while node.parent.color == \"red\":\n",
    "            if node.parent == node.parent.parent.left:\n",
    "                uncle = node.parent.parent.right\n",
    "                if uncle.color == \"red\":\n",
    "                    node.parent.color = \"black\"\n",
    "                    uncle.color = \"black\"\n",
    "                    node.parent.parent.color = \"red\"\n",
    "                else:\n",
    "                    if node == node.parent.right:\n",
    "                        node = node.parent\n",
    "                        self.left_rotate(node)\n",
    "                    node.parent.color = \"black\"\n",
    "                    node.parent.parent.color = \"red\"\n",
    "                    self.right_rotate(node.parent.parent)\n",
    "            else:\n",
    "                uncle = node.parent.parent.left\n",
    "                if uncle.color == \"red\":\n",
    "                    node.parent.color = \"black\"\n",
    "                    uncle.color = \"black\"\n",
    "                    node.parent.parent.color = \"red\"\n",
    "                else:\n",
    "                    if node == node.parent.left:\n",
    "                        node = node.parent\n",
    "                        self.right_rotate(node)\n",
    "                    node.parent.color = \"black\"\n",
    "                    node.parent.parent.color = \"red\"\n",
    "                    self.left_rotate(node.parent.parent)\n",
    "        self.root.color = \"black\"\n",
    "    \n",
    "    def left_rotate(self, head):\n",
    "        child = head.right\n",
    "        head.right = child.left\n",
    "        if child.left != self.nil:\n",
    "            child.left.parent = head\n",
    "        child.parent = head.parent\n",
    "        if head.parent == self.nil:\n",
    "            self.root = child\n",
    "        elif head == head.parent.left:\n",
    "            head.parent.left = child\n",
    "        else:\n",
    "            head.parent.right = child\n",
    "        child.left = head\n",
    "        head.parent = child\n",
    "    \n",
    "    def right_rotate(self, head):\n",
    "        child = head.left\n",
    "        head.left = child.right\n",
    "        if child.right != self.nil:\n",
    "            child.right.parent = head\n",
    "        child.parent = head.parent\n",
    "        if head.parent == self.nil:\n",
    "            self.root = child\n",
    "        elif head == head.parent.left:\n",
    "            head.parent.left = child\n",
    "        else:\n",
    "            head.parent.right = child\n",
    "        child.right = head\n",
    "        head.parent = child\n",
    "        \n",
    "    def transplant(self, old, new):\n",
    "        if old.parent == self.nil:\n",
    "            self.root = new\n",
    "        elif old == old.parent.left:\n",
    "            old.parent.left = new\n",
    "        else:\n",
    "            old.parent.right = new\n",
    "        new.parent = old.parent\n",
    "\n",
    "def inorder_walk(node):\n",
    "    result = []\n",
    "    if node.key:\n",
    "        result.extend(inorder_walk(node.left))\n",
    "        result.append(node.key)\n",
    "        result.extend(inorder_walk(node.right))\n",
    "    return result\n",
    "\n",
    "def successor(node):\n",
    "    if node.right:\n",
    "        return minimum(node.right)\n",
    "    else:\n",
    "        successor = node.parent\n",
    "        while (successor) and (successor.right == node):\n",
    "            node = successor\n",
    "            successor = successor.parent\n",
    "        return successor\n",
    "            \n",
    "def predecessor(node):\n",
    "    if node.left:\n",
    "        return maximum(node.left)\n",
    "    else:\n",
    "        predecessor = node.parent\n",
    "        while (predecessor) and (node == predecessor.left):\n",
    "            node = predecessor\n",
    "            predecessor = predecessor.parent\n",
    "        return predecessor"
   ]
  },
  {
   "cell_type": "code",
   "execution_count": 60,
   "metadata": {
    "collapsed": false
   },
   "outputs": [
    {
     "data": {
      "text/plain": [
       "[1, 2, 3, 4, 5, 6, 7, 8, 9]"
      ]
     },
     "execution_count": 60,
     "metadata": {},
     "output_type": "execute_result"
    }
   ],
   "source": [
    "tree = Tree()\n",
    "for key in [5, 6, 4, 7, 3, 8, 2, 0, 9, 1]:\n",
    "    tree.insert(key)\n",
    "inorder_walk(tree.root)"
   ]
  },
  {
   "cell_type": "code",
   "execution_count": 61,
   "metadata": {
    "collapsed": false
   },
   "outputs": [
    {
     "data": {
      "text/plain": [
       "9"
      ]
     },
     "execution_count": 61,
     "metadata": {},
     "output_type": "execute_result"
    }
   ],
   "source": [
    "tree.maximum().key"
   ]
  },
  {
   "cell_type": "code",
   "execution_count": 62,
   "metadata": {
    "collapsed": false
   },
   "outputs": [
    {
     "data": {
      "text/plain": [
       "0"
      ]
     },
     "execution_count": 62,
     "metadata": {},
     "output_type": "execute_result"
    }
   ],
   "source": [
    "tree.minimum().key"
   ]
  },
  {
   "cell_type": "code",
   "execution_count": 63,
   "metadata": {
    "collapsed": false
   },
   "outputs": [
    {
     "data": {
      "text/plain": [
       "<__main__.Node at 0x1091806d8>"
      ]
     },
     "execution_count": 63,
     "metadata": {},
     "output_type": "execute_result"
    }
   ],
   "source": [
    "tree.search(9)"
   ]
  },
  {
   "cell_type": "code",
   "execution_count": 64,
   "metadata": {
    "collapsed": false
   },
   "outputs": [],
   "source": [
    "tree.search(10)"
   ]
  },
  {
   "cell_type": "code",
   "execution_count": 65,
   "metadata": {
    "collapsed": false
   },
   "outputs": [
    {
     "ename": "AttributeError",
     "evalue": "'NoneType' object has no attribute 'color'",
     "output_type": "error",
     "traceback": [
      "\u001b[0;31m---------------------------------------------------------------------------\u001b[0m",
      "\u001b[0;31mAttributeError\u001b[0m                            Traceback (most recent call last)",
      "\u001b[0;32m<ipython-input-65-8ce6d0b9a998>\u001b[0m in \u001b[0;36m<module>\u001b[0;34m()\u001b[0m\n\u001b[0;32m----> 1\u001b[0;31m \u001b[0mtree\u001b[0m\u001b[0;34m.\u001b[0m\u001b[0mdelete\u001b[0m\u001b[0;34m(\u001b[0m\u001b[0mtree\u001b[0m\u001b[0;34m.\u001b[0m\u001b[0msearch\u001b[0m\u001b[0;34m(\u001b[0m\u001b[0;36m5\u001b[0m\u001b[0;34m)\u001b[0m\u001b[0;34m)\u001b[0m\u001b[0;34m\u001b[0m\u001b[0m\n\u001b[0m",
      "\u001b[0;32m<ipython-input-59-2bdf0a1d5fe0>\u001b[0m in \u001b[0;36mdelete\u001b[0;34m(self, node)\u001b[0m\n\u001b[1;32m     70\u001b[0m         \u001b[0;32melse\u001b[0m\u001b[0;34m:\u001b[0m\u001b[0;34m\u001b[0m\u001b[0m\n\u001b[1;32m     71\u001b[0m             \u001b[0mpointer\u001b[0m \u001b[0;34m=\u001b[0m \u001b[0msuccessor\u001b[0m\u001b[0;34m(\u001b[0m\u001b[0mnode\u001b[0m\u001b[0;34m)\u001b[0m\u001b[0;34m\u001b[0m\u001b[0m\n\u001b[0;32m---> 72\u001b[0;31m             \u001b[0moriginal_color\u001b[0m \u001b[0;34m=\u001b[0m \u001b[0mpointer\u001b[0m\u001b[0;34m.\u001b[0m\u001b[0mcolor\u001b[0m\u001b[0;34m\u001b[0m\u001b[0m\n\u001b[0m\u001b[1;32m     73\u001b[0m             \u001b[0mchild\u001b[0m \u001b[0;34m=\u001b[0m \u001b[0mpointer\u001b[0m\u001b[0;34m.\u001b[0m\u001b[0mright\u001b[0m\u001b[0;34m\u001b[0m\u001b[0m\n\u001b[1;32m     74\u001b[0m             \u001b[0;32mif\u001b[0m \u001b[0mpointer\u001b[0m\u001b[0;34m.\u001b[0m\u001b[0mparent\u001b[0m \u001b[0;34m==\u001b[0m \u001b[0mnode\u001b[0m\u001b[0;34m:\u001b[0m\u001b[0;34m\u001b[0m\u001b[0m\n",
      "\u001b[0;31mAttributeError\u001b[0m: 'NoneType' object has no attribute 'color'"
     ]
    }
   ],
   "source": [
    "tree.delete(tree.search(5))"
   ]
  },
  {
   "cell_type": "code",
   "execution_count": null,
   "metadata": {
    "collapsed": true
   },
   "outputs": [],
   "source": []
  }
 ],
 "metadata": {
  "kernelspec": {
   "display_name": "Python 3",
   "language": "python",
   "name": "python3"
  },
  "language_info": {
   "codemirror_mode": {
    "name": "ipython",
    "version": 3
   },
   "file_extension": ".py",
   "mimetype": "text/x-python",
   "name": "python",
   "nbconvert_exporter": "python",
   "pygments_lexer": "ipython3",
   "version": "3.5.1"
  }
 },
 "nbformat": 4,
 "nbformat_minor": 0
}
